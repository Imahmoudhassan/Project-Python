{
 "cells": [
  {
   "cell_type": "code",
   "execution_count": 1,
   "id": "e72a7985",
   "metadata": {},
   "outputs": [
    {
     "name": "stdout",
     "output_type": "stream",
     "text": [
      "Enter your name : Mahmoud\n",
      "Enter Your Weight In Pounds : 188\n",
      "Enter Your Height In Pounds : 73\n",
      "24.800900731844624\n",
      "Mahmoud,you are normal weigh.\n"
     ]
    }
   ],
   "source": [
    "name = input(\"Enter your name : \")\n",
    "\n",
    "weight = int(input(\"Enter Your Weight In Pounds : \"))\n",
    "\n",
    "height = int(input(\"Enter Your Height In Pounds : \"))\n",
    "\n",
    "BMI = (weight * 703 ) / (height * height) \n",
    "\n",
    "print(BMI)\n",
    "\n",
    "if BMI>0:\n",
    "    if(BMI<18.5):\n",
    "        print(name + \",you are underweight.\")\n",
    "    elif(BMI<=24.9):\n",
    "        print(name + \",you are normal weigh.\")    \n",
    "    elif(BMI<29.9):\n",
    "        print(name + \",you are overweight.\")    \n",
    "    elif(BMI<34.9):\n",
    "        print(name + \",you are obese.\")    \n",
    "    elif(BMI<39.9):\n",
    "        print(name + \",you are severely obese.\")   \n",
    "    else:        \n",
    "        print(name + \",you are morbidly obese.\")   \n",
    "else:\n",
    "    print(\"Enter valid input\")"
   ]
  },
  {
   "cell_type": "code",
   "execution_count": null,
   "id": "b46deeaa",
   "metadata": {},
   "outputs": [],
   "source": []
  },
  {
   "cell_type": "code",
   "execution_count": null,
   "id": "10a3e156",
   "metadata": {},
   "outputs": [],
   "source": []
  },
  {
   "cell_type": "code",
   "execution_count": null,
   "id": "ad0024eb",
   "metadata": {},
   "outputs": [],
   "source": []
  },
  {
   "cell_type": "code",
   "execution_count": null,
   "id": "b3f6bace",
   "metadata": {},
   "outputs": [],
   "source": []
  },
  {
   "cell_type": "code",
   "execution_count": null,
   "id": "c3d85613",
   "metadata": {},
   "outputs": [],
   "source": []
  },
  {
   "cell_type": "code",
   "execution_count": null,
   "id": "ca1396ca",
   "metadata": {},
   "outputs": [],
   "source": []
  },
  {
   "cell_type": "code",
   "execution_count": null,
   "id": "d69e8c8f",
   "metadata": {},
   "outputs": [],
   "source": []
  },
  {
   "cell_type": "code",
   "execution_count": null,
   "id": "6e1e608f",
   "metadata": {},
   "outputs": [],
   "source": []
  },
  {
   "cell_type": "code",
   "execution_count": null,
   "id": "6a79f662",
   "metadata": {},
   "outputs": [],
   "source": []
  },
  {
   "cell_type": "code",
   "execution_count": null,
   "id": "b98a8a27",
   "metadata": {},
   "outputs": [],
   "source": []
  },
  {
   "cell_type": "code",
   "execution_count": null,
   "id": "228bc6d3",
   "metadata": {},
   "outputs": [],
   "source": []
  },
  {
   "cell_type": "code",
   "execution_count": null,
   "id": "92c1e0b2",
   "metadata": {},
   "outputs": [],
   "source": []
  },
  {
   "cell_type": "code",
   "execution_count": null,
   "id": "07771cc7",
   "metadata": {},
   "outputs": [],
   "source": [
    "Under 18.5\tUnderweight\tMinimal\n",
    "18.5 - 24.9\tNormal Weight\tMinimal\n",
    "25 - 29.9\tOverweight\tIncreased\n",
    "30 - 34.9\tObese\tHigh\n",
    "35 - 39.9\tSeverely Obese\tVery High\n",
    "40 and over\tMorbidly Obese\tExtremely High"
   ]
  },
  {
   "cell_type": "code",
   "execution_count": null,
   "id": "98e51b22",
   "metadata": {},
   "outputs": [],
   "source": [
    "if BMI>0:\n",
    "    if(BMI<18.5):\n",
    "        print(name +,\"you are underweight.\")\n",
    "    elif(BMI<=24.9):\n",
    "        print(name +,\"you are normal weigh.\")    \n",
    "    elif(BMI<29.9):\n",
    "        print(name +,\"you are overweight.\")    \n",
    "    elif(BMI<34.9):\n",
    "        print(name +,\"you are obese.\")    \n",
    "    elif(BMI<39.9):\n",
    "        print(name +,\"you are severely obese.\")   \n",
    "    else:        \n",
    "        print(name +,\"you are morbidly obese.\")   \n",
    "else:\n",
    "    print(\"Enter valid input\")"
   ]
  },
  {
   "cell_type": "code",
   "execution_count": null,
   "id": "d5cd1b26",
   "metadata": {},
   "outputs": [],
   "source": []
  }
 ],
 "metadata": {
  "kernelspec": {
   "display_name": "Python 3 (ipykernel)",
   "language": "python",
   "name": "python3"
  },
  "language_info": {
   "codemirror_mode": {
    "name": "ipython",
    "version": 3
   },
   "file_extension": ".py",
   "mimetype": "text/x-python",
   "name": "python",
   "nbconvert_exporter": "python",
   "pygments_lexer": "ipython3",
   "version": "3.10.9"
  }
 },
 "nbformat": 4,
 "nbformat_minor": 5
}
